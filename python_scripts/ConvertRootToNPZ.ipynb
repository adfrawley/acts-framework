{
 "cells": [
  {
   "cell_type": "code",
   "execution_count": 86,
   "metadata": {},
   "outputs": [
    {
     "name": "stdout",
     "output_type": "stream",
     "text": [
      "VertexAndTracksCollection_n20000_p0\n"
     ]
    }
   ],
   "source": [
    "import uproot\n",
    "import numpy as np\n",
    "import h5py\n",
    "\n",
    "infilename = \"VertexAndTracksCollection_n20000_p0.root\"\n",
    "file = uproot.open(infilename)\n",
    "\n",
    "events = file[\"event\"]\n",
    "#events.show()\n",
    "print(infilename[:-5])"
   ]
  },
  {
   "cell_type": "code",
   "execution_count": 87,
   "metadata": {
    "collapsed": true,
    "scrolled": true
   },
   "outputs": [],
   "source": [
    "nEvents = len(events.array(\"event_nr\"))\n",
    "vx = events.array(\"vx\")\n",
    "vy = events.array(\"vy\")\n",
    "vz = events.array(\"vz\")\n",
    "d0 = events.array(\"d0\")\n",
    "z0 = events.array(\"z0\")\n",
    "phi = events.array(\"phi\")\n",
    "theta = events.array(\"theta\")\n",
    "qp = events.array(\"qp\")\n",
    "time = events.array(\"time\")\n",
    "vtxID = events.array(\"vtxID\")\n"
   ]
  },
  {
   "cell_type": "code",
   "execution_count": 102,
   "metadata": {},
   "outputs": [],
   "source": [
    "# Collection of vertex positions (x, y, z)\n",
    "vertexCollectionList = []\n",
    "# Collection of track parameters with vertex ID link\n",
    "# (d0, z0, phi, theta, q/p, t, vtxID)\n",
    "trackParamCollectionList = []\n",
    "\n",
    "# Loop over all events and fill collections\n",
    "for i in range(nEvents):\n",
    "    if len(vx[i]) != 1 or len(d0[i]) < 2:\n",
    "        # remove events with more than one vertex\n",
    "        # remove events with less than 2 tracks\n",
    "        continue\n",
    "    vtxPos = np.array(list(zip(vx[i],vy[i],vz[i])))\n",
    "    trackParam =  np.array(list(zip(d0[i], z0[i], phi[i], theta[i], qp[i])))# omit time and vtx for now, time[i], vtxID[i])))\n",
    "    vertexCollectionList.append(vtxPos)\n",
    "    trackParamCollectionList.append(trackParam)\n",
    "\n",
    "# Create numpy arrays\n",
    "vertexCollection = np.array(vertexCollectionList)\n",
    "trackParamCollection = np.array(trackParamCollectionList)"
   ]
  },
  {
   "cell_type": "code",
   "execution_count": 103,
   "metadata": {},
   "outputs": [
    {
     "name": "stdout",
     "output_type": "stream",
     "text": [
      "(16505, 1, 3)\n"
     ]
    }
   ],
   "source": [
    "print(vertexCollection.shape)"
   ]
  },
  {
   "cell_type": "code",
   "execution_count": 104,
   "metadata": {},
   "outputs": [
    {
     "name": "stdout",
     "output_type": "stream",
     "text": [
      "Vertices in 0. event: 1\n",
      "Tracks in 0. event: 4\n",
      "First vertex at: [ -3.80609767e-04  -1.23255868e-02  -2.19434643e+01]\n",
      "with first track params:  [  0.02820949 -21.94926834   0.52282566   0.91798747  -1.29776418]\n"
     ]
    }
   ],
   "source": [
    "# Debug print event properties\n",
    "eventIdx = 0\n",
    "print(f\"Vertices in {eventIdx}. event:\", vertexCollection[0].shape[0]) \n",
    "print(f\"Tracks in {eventIdx}. event:\", trackParamCollection[0].shape[0])\n",
    "print(\"First vertex at:\", vertexCollection[eventIdx][0])\n",
    "print(\"with first track params: \", trackParamCollection[eventIdx][0])"
   ]
  },
  {
   "cell_type": "code",
   "execution_count": 105,
   "metadata": {
    "collapsed": true
   },
   "outputs": [],
   "source": [
    "# Save dataset to hdf5 file\n",
    "# Output location\n",
    "fLoc = \"./\"\n",
    "# Output file name\n",
    "fName = fLoc + infilename[:-5]\n",
    "np.savez(fName, vertexCollection=vertexCollection, trackCollection=trackParamCollection)"
   ]
  },
  {
   "cell_type": "code",
   "execution_count": 106,
   "metadata": {},
   "outputs": [
    {
     "data": {
      "text/plain": [
       "array([  0.02820949, -21.94926834,   0.52282566,   0.91798747,  -1.29776418], dtype=float32)"
      ]
     },
     "execution_count": 106,
     "metadata": {},
     "output_type": "execute_result"
    }
   ],
   "source": [
    "array_reloaded = np.load(fName + \".npz\")\n",
    "trks = array_reloaded[\"trackCollection\"]\n",
    "trks[0][0]"
   ]
  },
  {
   "cell_type": "code",
   "execution_count": null,
   "metadata": {
    "collapsed": true
   },
   "outputs": [],
   "source": []
  }
 ],
 "metadata": {
  "kernelspec": {
   "display_name": "Python 3",
   "language": "python",
   "name": "python3"
  },
  "language_info": {
   "codemirror_mode": {
    "name": "ipython",
    "version": 3
   },
   "file_extension": ".py",
   "mimetype": "text/x-python",
   "name": "python",
   "nbconvert_exporter": "python",
   "pygments_lexer": "ipython3",
   "version": "3.6.2"
  }
 },
 "nbformat": 4,
 "nbformat_minor": 2
}
