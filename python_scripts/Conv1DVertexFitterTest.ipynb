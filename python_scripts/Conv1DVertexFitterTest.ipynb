{
 "cells": [
  {
   "cell_type": "code",
   "execution_count": 11,
   "metadata": {},
   "outputs": [],
   "source": [
    "from keras.models import Sequential\n",
    "from keras.layers import Dense, Dropout\n",
    "from keras.layers import LSTM\n",
    "from sklearn.model_selection import train_test_split\n",
    "import numpy as np\n",
    "import matplotlib.pyplot as plt\n",
    "import tensorflow as tf"
   ]
  },
  {
   "cell_type": "code",
   "execution_count": 168,
   "metadata": {
    "collapsed": true
   },
   "outputs": [],
   "source": [
    "# confirm TensorFlow sees the GPU\n",
    "from tensorflow.python.client import device_lib\n",
    "assert 'GPU' in str(device_lib.list_local_devices())\n",
    "\n",
    "# confirm Keras sees the GPU\n",
    "from keras import backend\n",
    "assert len(backend.tensorflow_backend._get_available_gpus()) > 0"
   ]
  },
  {
   "cell_type": "code",
   "execution_count": 49,
   "metadata": {
    "collapsed": true
   },
   "outputs": [],
   "source": [
    "def normalize_data(x_data, y_data):\n",
    "    # Normalize data according to max/min range\n",
    "    # x format: (d0, z0, phi, theta, q/p, time, vertex ID)\n",
    "    # y format: (vx, vy, vz)\n",
    "    # d0 unchanged, z0 -> z0 /200, phi -> phi/PI, theta -> theta/PI, qp-> qp/3\n",
    "    # Omit time and vtx idx for now\n",
    "    \n",
    "    # Define normalization factors\n",
    "    normZ0 = 200\n",
    "    normPhi = np.pi\n",
    "    normTheta = np.pi\n",
    "    normQP = 3\n",
    "    normVx = 3\n",
    "    normVy = 3\n",
    "    normVz = 200\n",
    "    \n",
    "    for event in x_data:\n",
    "        for i,trk in enumerate(event):\n",
    "            trk[1]/=normZ0\n",
    "            trk[2]/=normPhi\n",
    "            trk[3]/=normTheta\n",
    "            trk[4]/=normQP\n",
    "\n",
    "    # vx -> vx/3, vy->vy/3, vz -> vz/200       \n",
    "    for event in y_data:\n",
    "        event[0][0]/=normVx\n",
    "        event[0][1]/=normVy\n",
    "        event[0][2]/=normVz\n",
    "        \n",
    "def flattenAndPad(data):\n",
    "    new_x = []\n",
    "    for x in data:\n",
    "        zeros = np.zeros(600)\n",
    "        flat = x.flatten()\n",
    "        zeros[:flat.shape[0]] = flat\n",
    "        new_x.append(zeros)\n",
    "\n",
    "    return np.array(new_x)"
   ]
  },
  {
   "cell_type": "code",
   "execution_count": 132,
   "metadata": {},
   "outputs": [],
   "source": [
    "# Load and prepare data\n",
    "array_reloaded = np.load(\"VertexAndTracksCollection_n20000_p0.npz\")\n",
    "tracks = array_reloaded[\"trackCollection\"]\n",
    "vertices = array_reloaded[\"vertexCollection\"]\n",
    "\n",
    "# Normalize data\n",
    "normalize_data(tracks, vertices)\n",
    "#print(data[0][0])\n",
    "\n",
    "x_train, x_test, y_train, y_test = train_test_split(tracks, vertices,test_size=0.2, random_state=4)\n",
    "\n",
    "x_train = flattenAndPad(x_train)\n",
    "x_test = flattenAndPad(x_test)"
   ]
  }
 ],
 "metadata": {
  "kernelspec": {
   "display_name": "Python 3",
   "language": "python",
   "name": "python3"
  },
  "language_info": {
   "codemirror_mode": {
    "name": "ipython",
    "version": 3
   },
   "file_extension": ".py",
   "mimetype": "text/x-python",
   "name": "python",
   "nbconvert_exporter": "python",
   "pygments_lexer": "ipython3",
   "version": "3.6.2"
  }
 },
 "nbformat": 4,
 "nbformat_minor": 2
}
