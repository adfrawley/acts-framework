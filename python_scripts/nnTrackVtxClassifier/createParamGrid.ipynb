{
 "cells": [
  {
   "cell_type": "code",
   "execution_count": 1,
   "metadata": {},
   "outputs": [
    {
     "name": "stderr",
     "output_type": "stream",
     "text": [
      "/Library/Frameworks/Python.framework/Versions/3.6/lib/python3.6/site-packages/h5py/__init__.py:34: FutureWarning: Conversion of the second argument of issubdtype from `float` to `np.floating` is deprecated. In future, it will be treated as `np.float64 == np.dtype(float).type`.\n",
      "  from ._conv import register_converters as _register_converters\n",
      "Using TensorFlow backend.\n"
     ]
    }
   ],
   "source": [
    "%matplotlib inline\n",
    "#%matplotlib notebook\n",
    "from keras.models import Sequential\n",
    "from keras.layers import Dense, Dropout\n",
    "from keras.layers import LSTM\n",
    "from sklearn.model_selection import train_test_split\n",
    "import numpy as np\n",
    "import matplotlib.pyplot as plt\n",
    "import tensorflow as tf\n",
    "import matplotlib.cm as cm\n",
    "from mpl_toolkits.mplot3d import Axes3D"
   ]
  },
  {
   "cell_type": "code",
   "execution_count": 2,
   "metadata": {
    "collapsed": true
   },
   "outputs": [],
   "source": [
    "#Disable auto scrolling"
   ]
  },
  {
   "cell_type": "code",
   "execution_count": 131,
   "metadata": {},
   "outputs": [
    {
     "name": "stderr",
     "output_type": "stream",
     "text": [
      "E0921 10:56:57.278982 140734820103616 interactiveshell.py:2090] Cell magic `%%#javascript` not found.\n"
     ]
    }
   ],
   "source": [
    "\n",
    "%%#javascript\n",
    "#IPython.OutputArea.prototype._should_scroll = function(lines) {\n",
    "#    return false;\n",
    "#}"
   ]
  },
  {
   "cell_type": "code",
   "execution_count": 4,
   "metadata": {
    "collapsed": true
   },
   "outputs": [],
   "source": [
    "# Load and prepare data\n",
    "array_reloaded = np.load(\"../VertexAndTracksCollection_n10_p200.npz\")\n",
    "tracks = array_reloaded[\"trackCollection\"]#[:1000]\n",
    "vertices = array_reloaded[\"vertexCollection\"]#[:1000]"
   ]
  },
  {
   "cell_type": "code",
   "execution_count": 5,
   "metadata": {},
   "outputs": [
    {
     "name": "stdout",
     "output_type": "stream",
     "text": [
      "Event 9 with 2767 tracks and 219 vertices.\n"
     ]
    }
   ],
   "source": [
    "# Debug print outs\n",
    "eventIdx = 9\n",
    "print(\"Event {} with {} tracks and {} vertices.\".format(eventIdx,tracks[eventIdx].shape[0],vertices[eventIdx].shape[0]))"
   ]
  },
  {
   "cell_type": "code",
   "execution_count": 6,
   "metadata": {},
   "outputs": [],
   "source": [
    "def plot2d():\n",
    "    # 2D plots\n",
    "    for eventIdx in range(9,10):\n",
    "        print(\"Event {} with {} tracks and {} vertices.\".format(eventIdx,tracks[eventIdx].shape[0],vertices[eventIdx].shape[0]))\n",
    "        evTrks = tracks[eventIdx]\n",
    "        labels = [\"d0\", \"z0\", \"phi\", \"theta\", \"q/p\", \"vtxIdx\"]\n",
    "        d0z0s = evTrks #d0, z0, phi, theta, q/p, vtxIdx\n",
    "\n",
    "        for i in range(len(labels) - 1):\n",
    "            for j in range(i+1, len(labels) - 1):\n",
    "\n",
    "                xidx = i #+ offset\n",
    "                yidx = j #+ offset\n",
    "\n",
    "                xlabel = labels[xidx]\n",
    "                ylabel = labels[yidx]\n",
    "\n",
    "                #fig = plt.figure(figsize=(8, 6))\n",
    "                plt.scatter(d0z0s[:,xidx], d0z0s[:,yidx],  c=d0z0s[:,-1],  cmap=\"gist_rainbow\", s=10)\n",
    "\n",
    "                plt.title('{}/{} track distribution colored by vtx'.format(ylabel, xlabel))\n",
    "                plt.xlabel(xlabel)\n",
    "                plt.ylabel(ylabel)\n",
    "\n",
    "                plt.show()"
   ]
  },
  {
   "cell_type": "code",
   "execution_count": 7,
   "metadata": {},
   "outputs": [],
   "source": [
    "def plot3d():\n",
    "    # 3D plots\n",
    "    for eventIdx in range(9,10):\n",
    "        print(\"Event {} with {} tracks and {} vertices.\".format(eventIdx,tracks[eventIdx].shape[0],vertices[eventIdx].shape[0]))\n",
    "        evTrks = tracks[eventIdx]\n",
    "        labels = [\"d0\", \"z0\", \"phi\", \"theta\", \"q/p\", \"vtxIdx\"]\n",
    "        d0z0s = evTrks #d0, z0, phi, theta, q/p, vtxIdx\n",
    "\n",
    "        for i in range(len(labels) - 1):\n",
    "            for j in range(i+1, len(labels) - 1):\n",
    "                for k in range(j+1, len(labels) - 1):\n",
    "                    xidx = i #+ offset\n",
    "                    yidx = j #+ offset\n",
    "                    zidx = k\n",
    "\n",
    "                    xlabel = labels[xidx]\n",
    "                    ylabel = labels[yidx]\n",
    "                    zlabel = labels[zidx]\n",
    "\n",
    "                    fig = plt.figure(figsize=(8, 6))\n",
    "                    ax = fig.add_subplot(111, projection='3d')\n",
    "                    ax.scatter(d0z0s[:,xidx], d0z0s[:,yidx], d0z0s[:,zidx],  c=d0z0s[:,-1],  cmap=\"gist_rainbow\", s=10)\n",
    "\n",
    "                    plt.title('{}/{}/{} track distribution colored by vtx'.format(ylabel, xlabel, zlabel))\n",
    "                    plt.xlabel(xlabel)\n",
    "                    plt.ylabel(ylabel)\n",
    "                    #plt.zlabel(zlabel)\n",
    "                    plt.show()"
   ]
  },
  {
   "cell_type": "code",
   "execution_count": 9,
   "metadata": {},
   "outputs": [],
   "source": [
    "##################\n",
    "# Create binning #\n",
    "##################\n",
    "# Define bin sizes/resolutions for each trk parameter\n",
    "d0BinSize = 0.1 #mm = 100micrometer\n",
    "z0BinSize = 0.1 #mm = 100micrometer\n",
    "phBinSize = 2*np.pi / 64\n",
    "thBinSize = np.pi / 32\n",
    "qpBinSize = 0.1\n",
    "# Define ranges min/max\n",
    "d0MinMax = -1, 1 #mm\n",
    "z0MinMax = -150, 150 #mm\n",
    "phMinMax = -np.pi, np.pi\n",
    "thMinMax = 0, np.pi\n",
    "qpMinMax = -3, 3\n",
    "# Calculate number of needed bins\n",
    "nBinsD0 = int((d0MinMax[1]-d0MinMax[0]) / d0BinSize)\n",
    "nBinsZ0 = int((z0MinMax[1]-z0MinMax[0]) / z0BinSize)\n",
    "nBinsPh = int((phMinMax[1]-phMinMax[0]) / phBinSize)\n",
    "nBinsTh = int((thMinMax[1]-thMinMax[0]) / thBinSize)\n",
    "nBinsQp = int((qpMinMax[1]-qpMinMax[0]) / qpBinSize)\n",
    "\n",
    "# Returns the 5-d bin the current track falls into\n",
    "def find5DBin(params):\n",
    "    d0Bin = int(np.floor((params[0] + (nBinsD0*d0BinSize)/ 2) / d0BinSize))\n",
    "    z0Bin = int(np.floor((params[1] + (nBinsZ0*z0BinSize)/ 2) / z0BinSize))\n",
    "    phBin = int(np.floor((params[2] + (nBinsPh*phBinSize)/ 2) / phBinSize))\n",
    "    thBin = int(np.floor((params[3]) / thBinSize))\n",
    "    qpBin = int(np.floor((params[4] + (nBinsQp*qpBinSize)/ 2) / qpBinSize))\n",
    "    \n",
    "    return d0Bin, z0Bin, phBin, thBin, qpBin\n",
    "\n",
    "def findD0Z0Bin(params):\n",
    "    d0Bin = int(np.floor((params[0] + (nBinsD0*d0BinSize)/ 2) / d0BinSize))\n",
    "    z0Bin = int(np.floor((params[1] + (nBinsZ0*z0BinSize)/ 2) / z0BinSize))\n",
    "    \n",
    "    return d0Bin, z0Bin\n",
    "\n",
    "fullParamGrid = np.zeros([nBinsD0, nBinsZ0, nBinsPh, nBinsTh, nBinsQp])\n",
    "z0d0ParamGrid = np.zeros([nBinsD0, nBinsZ0])"
   ]
  },
  {
   "cell_type": "code",
   "execution_count": 10,
   "metadata": {
    "collapsed": true
   },
   "outputs": [],
   "source": [
    "# Reset the grid to zeros\n",
    "z0d0ParamGrid = np.zeros([nBinsD0, nBinsZ0])"
   ]
  },
  {
   "cell_type": "code",
   "execution_count": 28,
   "metadata": {
    "scrolled": true
   },
   "outputs": [],
   "source": [
    "# Reset grid to zeros\n",
    "fullParamGrid = np.zeros([nBinsD0, nBinsZ0, nBinsPh, nBinsTh, nBinsQp])\n",
    "eventIdx = 0\n",
    "for i,trk in enumerate(tracks[eventIdx]):\n",
    "    my5DBin = find5DBin(trk)\n",
    "    my2DBin = findD0Z0Bin(trk)\n",
    "    \n",
    "    fullParamGrid[my5DBin] = trk[-1] + 1\n",
    "    z0d0ParamGrid[my2DBin] = 1#trk[-1] + 1\n",
    "\n"
   ]
  },
  {
   "cell_type": "code",
   "execution_count": 29,
   "metadata": {},
   "outputs": [],
   "source": [
    "z = z0d0ParamGrid[:,1250:1750]"
   ]
  },
  {
   "cell_type": "code",
   "execution_count": 30,
   "metadata": {},
   "outputs": [
    {
     "data": {
      "image/png": "[encoded data removed]",
      "text/plain": [
       "<matplotlib.figure.Figure at 0x11cf8d390>"
      ]
     },
     "metadata": {},
     "output_type": "display_data"
    }
   ],
   "source": [
    "fig = plt.figure(figsize=(25,5))\n",
    "plt.imshow(z)\n",
    "plt.show()"
   ]
  },
  {
   "cell_type": "code",
   "execution_count": null,
   "metadata": {
    "collapsed": true
   },
   "outputs": [],
   "source": []
  }
 ],
 "metadata": {
  "kernelspec": {
   "display_name": "Python 3",
   "language": "python",
   "name": "python3"
  },
  "language_info": {
   "codemirror_mode": {
    "name": "ipython",
    "version": 3
   },
   "file_extension": ".py",
   "mimetype": "text/x-python",
   "name": "python",
   "nbconvert_exporter": "python",
   "pygments_lexer": "ipython3",
   "version": "3.6.2"
  }
 },
 "nbformat": 4,
 "nbformat_minor": 2
}
